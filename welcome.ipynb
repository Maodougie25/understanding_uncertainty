{
 "cells": [
  {
   "cell_type": "markdown",
   "id": "37db9b3c",
   "metadata": {
    "slideshow": {
     "slide_type": "slide"
    }
   },
   "source": [
    "# Understanding Uncertainty\n",
    "### DS 5030\n",
    "### Tuesday/Thursday, 9:30–10:45 or 11:00 – 12:15, SDS 306"
   ]
  },
  {
   "cell_type": "markdown",
   "id": "158957a9",
   "metadata": {
    "slideshow": {
     "slide_type": "subslide"
    }
   },
   "source": [
    "## The Course\n",
    "- “Provides an in-depth exploration of probabilistic and statistical methods used to understand, quantify, and manage uncertainty. Learn foundational concepts in probability and statistics, simulation techniques, and modern approaches to parameter estimation, decision theory, and hypothesis testing. Topics include parametric and nonparametric methods, Bayesian and frequentist paradigms, and applications of uncertainty in real-world problems.”\n",
    "- In this course, we pick up the threads of your math and probability education, and provide a foundation for later developments in machine learning and artificial intelligence, grounded in data. You will take multiple classes on machine learning, so the goal is not to compete with those courses, but to complement and foreshadow what will happen in them. We want to ensure you are ready to be quantitative thinkers and thoughtful modelers for the rest of your career. The course is slightly recursive, with elements building on themselves. This is intentional."
   ]
  },
  {
   "cell_type": "markdown",
   "id": "e12d662c",
   "metadata": {
    "slideshow": {
     "slide_type": "subslide"
    }
   },
   "source": [
    "## Schedule Sketch\n",
    "- 8/26 -- 9/9: Non-Parametric Analytics\n",
    "- 9/16 -- 10/9: Probability Theory\n",
    "- 10/14 -- 11/11: Bayesian Estimation\n",
    "- 11/13 -- 12/9: Frequentism"
   ]
  },
  {
   "cell_type": "markdown",
   "id": "a93e7c61",
   "metadata": {
    "slideshow": {
     "slide_type": "subslide"
    }
   },
   "source": [
    "## Assignments and Grading\n",
    "1. Recital: Generative modeling from Markov Chains (12%, 9/23)\n",
    "2. Exam: Traditional blue book exam on probability theory (22%, 11/6)\n",
    "3. Bayesian Project: Detecting and blocking potential fraudulent banking transactions (12%, 11/25)\n",
    "4. Frequentist Project: High dimensional inference with genomics data (12%, 12/9)\n",
    "5. Final Presentation: Portfolio optimization, or expand on the Bayesian/Frequentist projects (12%, Dec 15/9:00-12:00 pm or Dec 16/2:00-5:00 pm)\n",
    "6. Assignments: Each class will include two to five exercises that can be done as a group (30%)"
   ]
  },
  {
   "cell_type": "markdown",
   "id": "a8dce610",
   "metadata": {
    "slideshow": {
     "slide_type": "subslide"
    }
   },
   "source": [
    "## Course Content\n",
    "- I'll continuously update: https://github.com/ds4e/understanding_uncertainty\n",
    "- I plan to move content to AWS where storage constraints are less restrictive, but you can still use Git to clone/pull/fetch materials\n",
    "- Learning Management Systems are awful, but I will collect assignments and distribute grades on Canvas\n",
    "- I've learned that students organize their own group chats, and that trying to force technology on them is somewhat pointless, but I am happy to set up Slack/Piazza/Discord/etc. for the course if students will use it"
   ]
  },
  {
   "cell_type": "markdown",
   "id": "828f0b13",
   "metadata": {
    "slideshow": {
     "slide_type": "subslide"
    }
   },
   "source": [
    "## Teaching Assistants\n",
    "- 9:30 - 10:45: Oai Tran, dzn7nf@virginia.edu\n",
    "- 11:00 - 12:15: Eirik Steen, zxc6hs@virginia.edu"
   ]
  },
  {
   "cell_type": "markdown",
   "id": "70c4ed2f",
   "metadata": {
    "slideshow": {
     "slide_type": "subslide"
    }
   },
   "source": [
    "## Who is this class for? \n",
    "\n",
    "Everyone is welcome to participate in this class, of any age, culture, gender, language or geographic heritage, learning and physical abilities, political or social beliefs, race or ethnicity, religious or spiritual beliefs, sex, and social or economic class. Conversely, everyone participating in this class is expected to respect the dignity and humanity of their peers. Please feel free to approach or email your TA’s or instructor with instructions about how you would like to be addressed, including adjustments to or pronunciation of names or preferred pronouns."
   ]
  },
  {
   "cell_type": "markdown",
   "id": "a2145a06",
   "metadata": {
    "slideshow": {
     "slide_type": "subslide"
    }
   },
   "source": [
    "## Academic Integrity: \n",
    "\n",
    "(Wording suggested by the administration) “I trust every student in this course to fully comply with all of the provisions of the University’s Honor Code. By enrolling in this course, you have agreed to abide by and uphold the Honor System of the University of Virginia. All graded assignments must be pledged, including homework and exams. All suspected violations will be forwarded to the Honor Committee. Please let me know if you have any questions regarding the course Honor policy. If you believe you may have committed an Honor Offense, you may wish to file a Conscientious Retraction by calling the Honor Offices at (434) 924-7602.”"
   ]
  },
  {
   "cell_type": "markdown",
   "id": "92c94254",
   "metadata": {
    "slideshow": {
     "slide_type": "subslide"
    }
   },
   "source": [
    "## Generative Artificial Intelligence\n",
    "\n",
    "1. Cite AI code appropriately. \n",
    "2. Make sure it actually runs and does what you intend. \n",
    "3. Recognize that you are not learning how to code, but instead learning how to query an AI system upon which you will become entirely dependent."
   ]
  },
  {
   "cell_type": "markdown",
   "id": "9799a72b",
   "metadata": {
    "slideshow": {
     "slide_type": "subslide"
    }
   },
   "source": [
    "## Recommended Technology\n",
    "1. Operating System\n",
    "- Windows: Install WSL2 and get used to Linux\n",
    "- MacOS/Linux: Terminal and command lines work great\n",
    "\n",
    "2. Programming language: Python and Miniconda\n",
    "- Make sure you've got Python 3 installed on your computer\n",
    "- Install Miniconda as your package/environment manager: https://www.anaconda.com/docs/getting-started/miniconda/install\n",
    "- You can use Miniconda to install and manage Python libraries, falling back to pip when necessary\n",
    "\n",
    "3. Integrated Development Environment: VS Code, maybe PyCharm\n",
    "- Visual Studio Code is a great option for working on .py and .ipynb files\n",
    "\n",
    "4. Github\n",
    "- You need a GitHub account for submitting assignments and doing group work"
   ]
  },
  {
   "cell_type": "markdown",
   "id": "c912fdbb",
   "metadata": {
    "slideshow": {
     "slide_type": "subslide"
    }
   },
   "source": [
    "## Conda Cheatsheet\n",
    "Conda allows you to build and maintain an environment that can be used from anywhere on your machine, unlike venv/pip\n",
    "\n",
    "- Create environment: `conda create -n env python=3.12`\n",
    "- Activate environment: `conda activate env`\n",
    "- Install packages: `conda install packages`\n",
    "- Deactivate environment: `conda deactivate`\n",
    "- Remove environment: `conda env remove -n env`\n",
    "- List all environments: `conda env list`"
   ]
  },
  {
   "cell_type": "markdown",
   "id": "e08b280b",
   "metadata": {
    "slideshow": {
     "slide_type": "subslide"
    }
   },
   "source": [
    "## Prompts\n",
    "On your index card, I am giving you the chance to write whatever you want, anonymously or not\n",
    "\n",
    "- Maybe you're worried about math or coding\n",
    "- Maybe you're pivoting from a different field and feel like you're in over your head, and want to voice that concern\n",
    "- Maybe, because of unanticipated life events, this semester is going to be harder than you thought\n",
    "- Maybe you find sharks or spiders terrifying, and don't want me to use examples about shark or spider attacks\n",
    "\n",
    "If there's something you feel like I should be aware of, but you don't feel comfortable saying it to me, this is your chance"
   ]
  },
  {
   "cell_type": "markdown",
   "id": "b31c56db",
   "metadata": {
    "slideshow": {
     "slide_type": "subslide"
    }
   },
   "source": [
    "## Student Heterogeneity\n",
    "- There are something like 40 different undergraduate majors represented among the approximately 100 enrolled students\n",
    "- There are people who are excellent at computer science but know little about statistics, there are people who have worked in industry for 20 years and forgotten all the calculus they ever knew, etc.\n",
    "- I try to provide a balance of content for as many audiences as I can, but at some point in the course, it will be your turn to either (A) be bored or (B) be frustrated\n",
    "- The purpose of the course is not to bore or frustrate you, but it's part of being in a diverse intellectual community: We have to work together, and be respectful\n",
    "- But if you know everything in the course, and are feeling uniformly bored, please come talk to me and we can give you more appropriate work\n",
    "- Likewise, if you feel like everything is constantly over your head, let's talk sooner rather than later, and find a more appropriate path for you to develop these skills"
   ]
  },
  {
   "cell_type": "markdown",
   "id": "0f7cba2b",
   "metadata": {
    "slideshow": {
     "slide_type": "subslide"
    }
   },
   "source": [
    "## Groups\n",
    "- We'll break into smaller but relatively large groups (6-8 members) to work together during class and on projects\n",
    "- Here is a somewhat arbitrary taxonomy of interest:\n",
    "    1. Medical Sciences: Precision health, genomics, public health, epidemiology\n",
    "    2. Social/Behavioral Sciences: sociology, policy, business, economics, finance, epidemiology\n",
    "    3. Computer Sciences: LLMs, computer vision, deep learning\n",
    "    4. Earth and Life Sciences: Physics, chemistry, biology, engineering"
   ]
  }
 ],
 "metadata": {
  "kernelspec": {
   "display_name": "base",
   "language": "python",
   "name": "python3"
  },
  "language_info": {
   "name": "python",
   "version": "3.13.5"
  }
 },
 "nbformat": 4,
 "nbformat_minor": 5
}
