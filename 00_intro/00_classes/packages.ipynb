{
 "cells": [
  {
   "cell_type": "markdown",
   "metadata": {},
   "source": [
    "# Packages\n",
    "### Understanding Uncertainty"
   ]
  },
  {
   "cell_type": "markdown",
   "metadata": {},
   "source": [
    "## Making and Using Packages\n",
    "- Python's package system can seem like a mystery if you've never built one, so let's do that\n",
    "- In the directory is a folder called `packageName`, and in the folder, there's a .py file calle `moduleName`\n",
    "- When we do something like `from numpy.linalg import solve`, we're reaching into the package named Numpy, into a py file called linalg, and grabbing a class or function called solve\n",
    "- In order to make these links a bit clearer, I put the `Mx` matrix class into the `moduleName.py` file, in the `packageName` folder, so you can see how different ways of importing the `Mx` class lead to different results"
   ]
  },
  {
   "cell_type": "markdown",
   "metadata": {},
   "source": [
    "## Importing `Mx`\n",
    "- We do things all the time like `from matplotlib.pyplot import plt`\n",
    "- When we use the `from packageName.moduleName import class` idiom, the `class` object becomes just another class in our namespace to work with:"
   ]
  },
  {
   "cell_type": "code",
   "execution_count": 5,
   "metadata": {},
   "outputs": [
    {
     "name": "stdout",
     "output_type": "stream",
     "text": [
      "<class 'packageName.moduleName.Mx'>\n"
     ]
    },
    {
     "data": {
      "text/plain": [
       "[31, 66, 30]\n",
       "[34, 80, 42]\n",
       "[63, 109, 28]"
      ]
     },
     "execution_count": 5,
     "metadata": {},
     "output_type": "execute_result"
    }
   ],
   "source": [
    "from packageName.moduleName import Mx\n",
    "\n",
    "#from packageName.moduleName import Mx #  Mx() is now a class in your namespace\n",
    "#from packageName import moduleName # Use moduleName.Mx()\n",
    "#import packageName.moduleName # Use packageName.moduleName.Mx()\n",
    "\n",
    "A = Mx([ [1,3,5], [2,4,6], [-1,4,8]])\n",
    "B = Mx([ [-7,6,4], [-5,12,7], [8,-1,5]])\n",
    "\n",
    "#A = moduleName.Mx(A)\n",
    "#B = moduleName.Mx(B)\n",
    "\n",
    "D = A*B\n",
    "\n",
    "print(type(D))\n",
    "\n",
    "D"
   ]
  },
  {
   "cell_type": "markdown",
   "metadata": {},
   "source": [
    "## Importing the Module\n",
    "- You have seen `import pandas as pd` or `import numpy.linalg as la`\n",
    "- When we use the `import packageName.moduleName as mn` idiom, we keep our namespaces separated: You have to reach through `packagename` to get to objects out\n",
    "- This is slightly inconvenient, but the provenance of objects is clear, and import statements won't overwrite one another (go check out the chaos that is libraries in R)"
   ]
  },
  {
   "cell_type": "code",
   "execution_count": 5,
   "metadata": {},
   "outputs": [
    {
     "name": "stdout",
     "output_type": "stream",
     "text": [
      "[[31, 66, 30], [34, 80, 42], [63, 109, 28]]\n",
      "<class 'packageName.moduleName.Mx'>\n"
     ]
    },
    {
     "data": {
      "text/plain": [
       "[31, 66, 30]\n",
       "[34, 80, 42]\n",
       "[63, 109, 28]"
      ]
     },
     "execution_count": 5,
     "metadata": {},
     "output_type": "execute_result"
    }
   ],
   "source": [
    "import packageName.moduleName as mn\n",
    "\n",
    "A = mn.Mx( [ [1,3,5], [2,4,6], [-1,4,8] ] )\n",
    "B = mn.Mx( [ [-7,6,4], [-5,12,7], [8,-1,5] ] )\n",
    "\n",
    "D = A*B\n",
    "\n",
    "print(D)\n",
    "print(type(D))\n",
    "D\n",
    "\n"
   ]
  },
  {
   "cell_type": "code",
   "execution_count": 6,
   "metadata": {},
   "outputs": [
    {
     "name": "stdout",
     "output_type": "stream",
     "text": [
      "[[31, 66, 30], [34, 80, 42], [63, 109, 28]]\n",
      "<class 'packageName.moduleName.Mx'>\n"
     ]
    },
    {
     "data": {
      "text/plain": [
       "[31, 66, 30]\n",
       "[34, 80, 42]\n",
       "[63, 109, 28]"
      ]
     },
     "execution_count": 6,
     "metadata": {},
     "output_type": "execute_result"
    }
   ],
   "source": [
    "from packageName import moduleName as mn\n",
    "\n",
    "A = mn.Mx( [ [1,3,5], [2,4,6], [-1,4,8] ] )\n",
    "B = mn.Mx( [ [-7,6,4], [-5,12,7], [8,-1,5] ] )\n",
    "\n",
    "D = A*B\n",
    "\n",
    "print(D)\n",
    "print(type(D))\n",
    "D"
   ]
  },
  {
   "cell_type": "markdown",
   "metadata": {},
   "source": [
    "## Slightly more verbose version of the last one:"
   ]
  },
  {
   "cell_type": "code",
   "execution_count": 6,
   "metadata": {},
   "outputs": [
    {
     "name": "stdout",
     "output_type": "stream",
     "text": [
      "[[31, 66, 30], [34, 80, 42], [63, 109, 28]]\n",
      "<class 'packageName.moduleName.Mx'>\n"
     ]
    },
    {
     "data": {
      "text/plain": [
       "[31, 66, 30]\n",
       "[34, 80, 42]\n",
       "[63, 109, 28]"
      ]
     },
     "execution_count": 6,
     "metadata": {},
     "output_type": "execute_result"
    }
   ],
   "source": [
    "## Let's try importing Mx using a different approach:\n",
    "\n",
    "import packageName.moduleName # Use packageName.moduleName.Mx()\n",
    "\n",
    "A = packageName.moduleName.Mx( [ [1,3,5], [2,4,6], [-1,4,8] ] )\n",
    "B = packageName.moduleName.Mx( [ [-7,6,4], [-5,12,7], [8,-1,5] ] )\n",
    "\n",
    "D = A*B\n",
    "\n",
    "print(D)\n",
    "print(type(D))\n",
    "D\n"
   ]
  },
  {
   "cell_type": "markdown",
   "metadata": {},
   "source": [
    "## Importing Everything\n",
    "- What if you just want to bring everything in?\n",
    "- You can `from packageName import *`, and it will dump the modules into your namespace. You still have to `moduleName.` to get to the classes inside, but don't have to specify the modules:"
   ]
  },
  {
   "cell_type": "code",
   "execution_count": 8,
   "metadata": {},
   "outputs": [
    {
     "name": "stdout",
     "output_type": "stream",
     "text": [
      "[[31, 66, 30], [34, 80, 42], [63, 109, 28]]\n",
      "<class 'packageName.moduleName.Mx'>\n"
     ]
    },
    {
     "data": {
      "text/plain": [
       "[31, 66, 30]\n",
       "[34, 80, 42]\n",
       "[63, 109, 28]"
      ]
     },
     "execution_count": 8,
     "metadata": {},
     "output_type": "execute_result"
    }
   ],
   "source": [
    "from packageName import *\n",
    "\n",
    "A = moduleName.Mx( [ [1,3,5], [2,4,6], [-1,4,8] ] )\n",
    "B = moduleName.Mx( [ [-7,6,4], [-5,12,7], [8,-1,5] ] )\n",
    "\n",
    "D = A*B\n",
    "\n",
    "print(D)\n",
    "print(type(D))\n",
    "D"
   ]
  },
  {
   "cell_type": "markdown",
   "metadata": {},
   "source": [
    "## Building a Package\n",
    "To build your own package:\n",
    "\n",
    "1. Dump the modules names `moduleName` containing the functions/classes into a directory called `packageName`\n",
    "2. Add a file called `__init__.py` to the directory\n",
    "3. Throw it on GitHub or add it to PyPi and call yourself a developer\n",
    "\n",
    "The `__init__.py` file turns the directory into a package, and gives the Python interpret instructions when `import` is invoked on it. You can, among many other things,\n",
    "\n",
    "- Add a version number to it, like `__version__='0.0'` or `__author__='your name'`\n",
    "- Control what gets imported when `from packageName import *` gets invoked, with `__all__ = ['module names']`\n",
    "\n",
    "This means you can create reusable code that can be easily pulled into a project, whenever you want\n"
   ]
  }
 ],
 "metadata": {
  "kernelspec": {
   "display_name": "Python 3",
   "language": "python",
   "name": "python3"
  },
  "language_info": {
   "codemirror_mode": {
    "name": "ipython",
    "version": 3
   },
   "file_extension": ".py",
   "mimetype": "text/x-python",
   "name": "python",
   "nbconvert_exporter": "python",
   "pygments_lexer": "ipython3",
   "version": "3.11.13"
  }
 },
 "nbformat": 4,
 "nbformat_minor": 2
}
