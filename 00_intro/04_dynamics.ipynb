{
 "cells": [
  {
   "cell_type": "markdown",
   "id": "e4334f38",
   "metadata": {},
   "source": [
    "# Stochastic Processes\n",
    "### Understanding Uncertainty"
   ]
  },
  {
   "cell_type": "markdown",
   "id": "49a90aa8",
   "metadata": {},
   "source": [
    "## Introduction"
   ]
  },
  {
   "cell_type": "markdown",
   "id": "0e53e33a",
   "metadata": {},
   "source": [
    "- A **stochastic process** is a random phenomenon that changes over time\n",
    "- We're going to look at the workhorse model of stochastic processes: The Markov chain\n",
    "- Like most concepts we're looking at, you can spend your adult life studying these concepts, so we focus on the kernel of the idea in its most commonly used form\n",
    "- Because these data are typically not structured, tabular data, they can be a little more demanding to work with (closer to natural language processing than regression analysis)\n",
    "- Markov chains were invented by Markov when he studied how words/letters transition from one to the next"
   ]
  },
  {
   "cell_type": "markdown",
   "id": "b7100305",
   "metadata": {},
   "source": [
    "1. Sequences and the State Space\n",
    "2. The Transition Matrix\n",
    "3. Forecasting and Steady State Distribution"
   ]
  },
  {
   "cell_type": "markdown",
   "id": "69db29bc",
   "metadata": {},
   "source": [
    "# 1. Sequences and the State Space"
   ]
  },
  {
   "cell_type": "markdown",
   "id": "4522d000",
   "metadata": {},
   "source": [
    "## Sequences\n",
    "- A **sequence** is a collection of values drawn from a particular set, ordered by a \"time\" index\n",
    "    - A classic example of a sequence in mathematics is a sequence of real numbers: $x_n = \\frac{1}{n}$ with $n$ taking positive integer values, like $1, 1/2, 1/3, 1/4, 1/5, ...$\n",
    "    - Stock prices are sequences of numbers indexed by time: What's the price of a share of Apple at this moment?\n",
    "    - Electroencephalogram (EEG) tracks electrical activity in the brain, electrocardiogram (EKG) tracks electrical activity in the heart\n",
    "    - Music is \"sound in time\": Chord progressions and melodies are sequences of notes\n",
    "    - Text is a sequence of word **tokens** and $n$-grams of tokens, arranged to create meaning\n",
    "- A **stochastic process** is a sequence $\\{ X_t \\}_{t=1}^T$ whose values are random: Given our information, we cannot perfectly predict what will happen next\n",
    "- We want to model stochastic sequences and model how they evolve over time\n",
    "    - Our non-parametric models foreshadow powerful tools in machine learning: Attention, Transformers, Recurrent Neural Networks, Hidden Markov Chains"
   ]
  },
  {
   "cell_type": "markdown",
   "id": "9fe25af5",
   "metadata": {},
   "source": [
    "## The State Space\n",
    "- The core concept for stochastic sequences is the **state space**: What are the values the sequence can take?\n",
    "    - For stock prices, they're positive numbers denominated in dollars\n",
    "    - For precision health, it's the recent measurements of the patient's vital signs\n",
    "    - For music, they're chords in a key (e.g. I, IV, vi, V or ii, V7, I)\n",
    "    - For text, it's a chunk of words (e.g. \"To be or not...\")\n",
    "- The state space represents all of the possible, relevant configurations of the system\n",
    "- Enumerating it may be impractical, which is why we use theory and data and models to gain traction (many of the advances that made LLMs possible concern the best way to enumerate and model the state space of a sequence)"
   ]
  },
  {
   "cell_type": "markdown",
   "id": "51f7eeca",
   "metadata": {},
   "source": [
    "## Example 1: The Yellowfin Tuna Genome\n",
    "- The DNA of an organism is a sequence of letters, $\\{G, C, A, T\\}$, that represent the nucleotides Guanine, Cytosine, Adenine and Thymine\n",
    "- As we work along the DNA of an organism, we go back and forth between G, C, A, and T: There is a sequence of transitions, and they're not uniformly at random\n",
    "- How might we model this?\n",
    "- The simplest **state space** for this problem is just $\\{G, C, A, T\\}$\n"
   ]
  },
  {
   "cell_type": "code",
   "execution_count": 1,
   "id": "00da9441",
   "metadata": {},
   "outputs": [
    {
     "name": "stdout",
     "output_type": "stream",
     "text": [
      "['t' 't' 't' 't' 't' 'g' 'g' 'g' 'c' 'c' 'c' 'a' 'a' 'a' 'c' 't' 'a' 'g'\n",
      " 't' 'g' 'g' 'c' 't' 't' 't' 't' 'c' 'a' 't' 'c' 'a' 'g' 'a' 'a' 'c' 'c'\n",
      " 'g' 'a' 't' 'g' 'c' 'a' 'g' 'a' 'c' 't' 'c' 'a' 'c' 'c']\n"
     ]
    }
   ],
   "source": [
    "import re\n",
    "import numpy as np\n",
    "import pandas as pd\n",
    "\n",
    "with open('./tuna.csv', 'r') as f: # Open the tuna file\n",
    "    seq = [] # Save states here\n",
    "    for i, line in enumerate(f): # For each line,\n",
    "        line = re.sub(r'\\n', '', line) # remove newline characters\n",
    "        line = line.lower() # Convert to lowercase\n",
    "        line = re.sub(r'[^gcat]', '', line, flags=re.IGNORECASE) # Thermonucelar clean\n",
    "        seq.extend(line) # Add new nucleotides ot the end of the sequence\n",
    "seq = np.array(seq) # Convert to numpy array for computational convenience\n",
    "print(seq[:50])"
   ]
  },
  {
   "cell_type": "code",
   "execution_count": 2,
   "id": "3a5a72a7",
   "metadata": {},
   "outputs": [
    {
     "name": "stdout",
     "output_type": "stream",
     "text": [
      "States:\n",
      " ['a', 'c', 'g', 't']\n"
     ]
    }
   ],
   "source": [
    "states = list(np.unique(seq)) # Get unique elements and convert to list\n",
    "print('States:\\n', states)"
   ]
  },
  {
   "cell_type": "markdown",
   "id": "416c3e3b",
   "metadata": {},
   "source": [
    "## Exercise 1:\n",
    "- For the taxicab trajectory data, determine your state space and clean your sequences of cab rides"
   ]
  },
  {
   "cell_type": "markdown",
   "id": "2a69da3e",
   "metadata": {},
   "source": [
    "## Example 2: Bach Chorales\n",
    "- Music is \"sound in time\"\n",
    "- Music can sound \"challenging\" or \"complex\" or \"intellectually demanding\" (e.g. Arnold Schoenberg, Pierre Boulez, Edgard Varese)\n",
    "- Music can challenge assumptions (e.g. John Cage)\n",
    "- Music can be simple and yet still evoke complex responses (e.g. Philip Glass)\n",
    "- Bach, though, is pretty close to the platonic distillation of western harmony \n"
   ]
  },
  {
   "cell_type": "markdown",
   "id": "6f6e69a8",
   "metadata": {},
   "source": [
    "## The State Space: Chords\n",
    "- Harmony is the \"deliberate combination of tones/notes played simultaneously\"\n",
    "- In western music, there are 12 notes: C, C#/Db, D, D#/Eb, E, F, F#/Gb, G, G#/Ab, A, A#/Bb, B. The notes without #/b are the \"white\" keys on the piano, and those with the #/b are the \"black\" keys.\n",
    "- Picking any set of notes yields a **chord**: A combination of tones/notes played at the same time\n",
    "- Most chords sound \"bad\" (dissonant), and a culture's conception of what sounds good or bad changes over time\n",
    "- Our data are clean enough that you don't need to understand music theory, just that the data are a sequence of chords having some common structure (typically three to four notes, spaced by third: C major = CEG, A minor = ACE, G7 or G dominant 7 = GBDF, F suspended 4 = FBbC)\n",
    "- The set of chords will be token from which we build a state space"
   ]
  },
  {
   "cell_type": "markdown",
   "id": "5b537b34",
   "metadata": {},
   "source": [
    "![Notes](./src/piano-keys-chart.jpg)"
   ]
  },
  {
   "cell_type": "markdown",
   "id": "428aa4f5",
   "metadata": {},
   "source": [
    "# 2. The Transition Matrix"
   ]
  },
  {
   "cell_type": "markdown",
   "id": "25c97fb2",
   "metadata": {},
   "source": [
    "## Moving from State to State\n",
    "- Now we have a sequence and a state space: The sequence **transitions** unpredictably from one state to another\n",
    "- But the current state often reveals information about what the next state is likely to be: G doesn't transition uniformly at random to A, the A minor chord rarely transitions to Bb major, etc."
   ]
  },
  {
   "cell_type": "markdown",
   "id": "71bb2600",
   "metadata": {},
   "source": [
    "- ## Transition Proportions\n",
    "- To model this dependence in a data-driven way, we can think about conditional proportions\n",
    "$$\n",
    "\\widehat{pr}[X_t=z'|X_{t-1}=z] = \\dfrac{ \\frac{1}{T} \\sum_{s=1}^T \\mathbb{I} \\{ X_s=z', X_{s-1}=z \\}}{ \\frac{1}{T} \\sum_{s=1}^T \\mathbb{I} \\{ X_{s-1}=z \\}}\n",
    "$$\n",
    "where $T$ is the total number of terms of the sequence. So, the co-occurences of transition from $z_{t-1}$ to $z_t$, divided by the total number of occurences of $z_{t-1}$\n",
    "\n",
    "- These proportions represent the fraction of the time we move from one state to the other\n",
    "- We can tabulate them in a matrix, were the rows correspond to the current state and the columns to the next state, and the $(z,z')$ value corresponds to the transition proportion from $z$ to $z'$\n",
    "\n",
    "- This is just a contingency table, where the rows and columns correspond to \"current state\" and \"next state\", respectively"
   ]
  },
  {
   "cell_type": "code",
   "execution_count": 3,
   "id": "09a9a328",
   "metadata": {},
   "outputs": [
    {
     "name": "stdout",
     "output_type": "stream",
     "text": [
      "\n",
      "Transition Counts:\n",
      " [[69820. 67071. 41986. 45712.]\n",
      " [45094. 34456. 42538. 48819.]\n",
      " [48200. 21519. 38643. 63309.]\n",
      " [61475. 47860. 48504. 77355.]]\n",
      "\n",
      "State Counts: \n",
      " [[224589.]\n",
      " [170907.]\n",
      " [171671.]\n",
      " [235194.]]\n",
      "\n",
      "State proportions: \n",
      " [[0.27991017]\n",
      " [0.21300512]\n",
      " [0.21395731]\n",
      " [0.29312741]]\n",
      "\n",
      "Transition Proportions:\n"
     ]
    },
    {
     "data": {
      "text/html": [
       "<div>\n",
       "<style scoped>\n",
       "    .dataframe tbody tr th:only-of-type {\n",
       "        vertical-align: middle;\n",
       "    }\n",
       "\n",
       "    .dataframe tbody tr th {\n",
       "        vertical-align: top;\n",
       "    }\n",
       "\n",
       "    .dataframe thead th {\n",
       "        text-align: right;\n",
       "    }\n",
       "</style>\n",
       "<table border=\"1\" class=\"dataframe\">\n",
       "  <thead>\n",
       "    <tr style=\"text-align: right;\">\n",
       "      <th></th>\n",
       "      <th>a</th>\n",
       "      <th>c</th>\n",
       "      <th>g</th>\n",
       "      <th>t</th>\n",
       "    </tr>\n",
       "  </thead>\n",
       "  <tbody>\n",
       "    <tr>\n",
       "      <th>a</th>\n",
       "      <td>0.31</td>\n",
       "      <td>0.30</td>\n",
       "      <td>0.19</td>\n",
       "      <td>0.20</td>\n",
       "    </tr>\n",
       "    <tr>\n",
       "      <th>c</th>\n",
       "      <td>0.26</td>\n",
       "      <td>0.20</td>\n",
       "      <td>0.25</td>\n",
       "      <td>0.29</td>\n",
       "    </tr>\n",
       "    <tr>\n",
       "      <th>g</th>\n",
       "      <td>0.28</td>\n",
       "      <td>0.13</td>\n",
       "      <td>0.23</td>\n",
       "      <td>0.37</td>\n",
       "    </tr>\n",
       "    <tr>\n",
       "      <th>t</th>\n",
       "      <td>0.26</td>\n",
       "      <td>0.20</td>\n",
       "      <td>0.21</td>\n",
       "      <td>0.33</td>\n",
       "    </tr>\n",
       "  </tbody>\n",
       "</table>\n",
       "</div>"
      ],
      "text/plain": [
       "      a     c     g     t\n",
       "a  0.31  0.30  0.19  0.20\n",
       "c  0.26  0.20  0.25  0.29\n",
       "g  0.28  0.13  0.23  0.37\n",
       "t  0.26  0.20  0.21  0.33"
      ]
     },
     "execution_count": 3,
     "metadata": {},
     "output_type": "execute_result"
    }
   ],
   "source": [
    "## Create a S X S transition matrix, and find the transition counts:\n",
    "S = len(states)\n",
    "T = len(seq)\n",
    "tr_counts = np.zeros( (S, S) )\n",
    "\n",
    "for t in range(1,T): # For each transition\n",
    "    # Current and next tokens:\n",
    "    x_tm1 = seq[t-1] # previous state\n",
    "    x_t = seq[t] # current state\n",
    "    # Determine transition indices:\n",
    "    index_from = states.index(x_tm1)\n",
    "    index_to = states.index(x_t)\n",
    "    # Update transition counts:\n",
    "    tr_counts[index_to, index_from] += 1\n",
    "\n",
    "print(f'\\nTransition Counts:\\n {tr_counts}')\n",
    "\n",
    "# Sum the transition counts by row:\n",
    "row_sums = tr_counts.sum(axis=1, keepdims=True)\n",
    "print(f'\\nState Counts: \\n {row_sums}')\n",
    "\n",
    "# Sum the transition counts by row:\n",
    "row_sums = tr_counts.sum(axis=1, keepdims=True)\n",
    "print(f'\\nState proportions: \\n {row_sums/np.sum(row_sums)}')\n",
    "\n",
    "# Normalize the transition count matrix to get proportions:\n",
    "tr_pr = np.divide(tr_counts, row_sums, \n",
    "                            out=np.zeros_like(tr_counts), \n",
    "                            where=row_sums!=0)\n",
    "\n",
    "print(f'\\nTransition Proportions:')\n",
    "pd.DataFrame(np.round(tr_pr,2), index=states, columns=states)"
   ]
  },
  {
   "cell_type": "code",
   "execution_count": 4,
   "id": "a5efbbf5",
   "metadata": {},
   "outputs": [
    {
     "data": {
      "image/png": "[encoded data removed]",
      "text/plain": [
       "<Figure size 1300x1100 with 2 Axes>"
      ]
     },
     "metadata": {},
     "output_type": "display_data"
    }
   ],
   "source": [
    "import seaborn as sns\n",
    "import matplotlib.pyplot as plt\n",
    "\n",
    "plt.figure(figsize=(13, 11))\n",
    "sns.heatmap(tr_pr, \n",
    "            cmap='Blues',\n",
    "            square=True,          \n",
    "            xticklabels=states,\n",
    "            yticklabels=states,\n",
    "            cbar_kws={'label': 'Transition Probability'})\n",
    "\n",
    "plt.title('Transition Probabilities')\n",
    "plt.xlabel('...To State')\n",
    "plt.ylabel('From State...')\n",
    "plt.show()"
   ]
  },
  {
   "cell_type": "markdown",
   "id": "21946aa1",
   "metadata": {},
   "source": [
    "## Exercise 2:\n",
    "- Compute the transition matrix for the taxicab data between neighborhoods in Manhattan\n",
    "- Plot it in a heat map. What are the most common routes?"
   ]
  },
  {
   "cell_type": "markdown",
   "id": "f0b7f679",
   "metadata": {},
   "source": [
    "## Bach\n",
    "- Let's look at Bach as a noise machine"
   ]
  },
  {
   "cell_type": "markdown",
   "id": "97997952",
   "metadata": {},
   "source": [
    "## Longer Sequential Dependence (Order)\n",
    "- The **order** of the chain is how many tokens are used to comprise a state\n",
    "- For example, you could use a state space of {aa, ac, ag, at, ca , cc, cg, ct, ...} instead of just {a,c,g,t}\n",
    "- Increasing the order of the chain includes more memory of recent tokens in the definition of a state, an typically produces more realistic results (as long as the true behavior has higher dependence on past values of the state)\n",
    "- Computational biologists tell me that order 3 is where structures start to emerge, so let's use that"
   ]
  },
  {
   "cell_type": "code",
   "execution_count": 5,
   "id": "af660eb8",
   "metadata": {},
   "outputs": [
    {
     "name": "stdout",
     "output_type": "stream",
     "text": [
      "States: \n",
      " ['aaa', 'aac', 'aag', 'aat', 'aca', 'acc', 'acg', 'act', 'aga', 'agc', 'agg', 'agt', 'ata', 'atc', 'atg', 'att', 'caa', 'cac', 'cag', 'cat', 'cca', 'ccc', 'ccg', 'cct', 'cga', 'cgc', 'cgg', 'cgt', 'cta', 'ctc', 'ctg', 'ctt', 'gaa', 'gac', 'gag', 'gat', 'gca', 'gcc', 'gcg', 'gct', 'gga', 'ggc', 'ggg', 'ggt', 'gta', 'gtc', 'gtg', 'gtt', 'taa', 'tac', 'tag', 'tat', 'tca', 'tcc', 'tcg', 'tct', 'tga', 'tgc', 'tgg', 'tgt', 'tta', 'ttc', 'ttg', 'ttt']\n",
      "Transition Counts:\n",
      " [[ 9182.     0.     0. ...     0.     0.     0.]\n",
      " [ 4902.     0.     0. ...     0.     0.     0.]\n",
      " [ 5578.     0.     0. ...     0.     0.     0.]\n",
      " ...\n",
      " [    0.     0.     0. ...     0.     0.  9654.]\n",
      " [    0.     0.     0. ...     0.     0.  5858.]\n",
      " [    0.     0.     0. ...     0.     0. 11232.]]\n"
     ]
    }
   ],
   "source": [
    "order = 3\n",
    "sq = [''.join(seq[(t-order-1):(t-1)]) for t in range(order+1, T)]\n",
    "\n",
    "states = list(np.unique(sq))\n",
    "print('States: \\n', states)\n",
    "S = len(states)\n",
    "T = len(sq)\n",
    "\n",
    "tr_counts = np.zeros( (S, S) )\n",
    "for t in range(1,T):\n",
    "    x_previous = sq[t-1] # previous state\n",
    "    x_next = sq[t] # current token\n",
    "\n",
    "    index_from = states.index(x_previous)\n",
    "    index_to = states.index(x_next)\n",
    "\n",
    "    tr_counts[index_to, index_from] += 1\n",
    "\n",
    "print(f'Transition Counts:\\n {tr_counts}')"
   ]
  },
  {
   "cell_type": "code",
   "execution_count": 6,
   "id": "71fbb23f",
   "metadata": {},
   "outputs": [
    {
     "name": "stdout",
     "output_type": "stream",
     "text": [
      "State proportions: \n",
      "\n"
     ]
    },
    {
     "ename": "AxisError",
     "evalue": "axis 1 is out of bounds for array of dimension 1",
     "output_type": "error",
     "traceback": [
      "\u001b[31m---------------------------------------------------------------------------\u001b[39m",
      "\u001b[31mAxisError\u001b[39m                                 Traceback (most recent call last)",
      "\u001b[36mCell\u001b[39m\u001b[36m \u001b[39m\u001b[32mIn[6]\u001b[39m\u001b[32m, line 5\u001b[39m\n\u001b[32m      2\u001b[39m col_sums = tr_counts.sum(axis=\u001b[32m0\u001b[39m)\n\u001b[32m      3\u001b[39m \u001b[38;5;28mprint\u001b[39m(\u001b[33m'\u001b[39m\u001b[33mState proportions: \u001b[39m\u001b[38;5;130;01m\\n\u001b[39;00m\u001b[33m'\u001b[39m)\n\u001b[32m----> \u001b[39m\u001b[32m5\u001b[39m tr_df = pd.DataFrame(col_sums/\u001b[43mnp\u001b[49m\u001b[43m.\u001b[49m\u001b[43msum\u001b[49m\u001b[43m(\u001b[49m\u001b[43mcol_sums\u001b[49m\u001b[43m,\u001b[49m\u001b[43maxis\u001b[49m\u001b[43m=\u001b[49m\u001b[32;43m1\u001b[39;49m\u001b[43m)\u001b[49m, index=states)\n\u001b[32m      6\u001b[39m \u001b[38;5;28mprint\u001b[39m(tr_df)\n",
      "\u001b[36mFile \u001b[39m\u001b[32m~/miniconda3/lib/python3.12/site-packages/numpy/core/fromnumeric.py:2313\u001b[39m, in \u001b[36msum\u001b[39m\u001b[34m(a, axis, dtype, out, keepdims, initial, where)\u001b[39m\n\u001b[32m   2310\u001b[39m         \u001b[38;5;28;01mreturn\u001b[39;00m out\n\u001b[32m   2311\u001b[39m     \u001b[38;5;28;01mreturn\u001b[39;00m res\n\u001b[32m-> \u001b[39m\u001b[32m2313\u001b[39m \u001b[38;5;28;01mreturn\u001b[39;00m \u001b[43m_wrapreduction\u001b[49m\u001b[43m(\u001b[49m\u001b[43ma\u001b[49m\u001b[43m,\u001b[49m\u001b[43m \u001b[49m\u001b[43mnp\u001b[49m\u001b[43m.\u001b[49m\u001b[43madd\u001b[49m\u001b[43m,\u001b[49m\u001b[43m \u001b[49m\u001b[33;43m'\u001b[39;49m\u001b[33;43msum\u001b[39;49m\u001b[33;43m'\u001b[39;49m\u001b[43m,\u001b[49m\u001b[43m \u001b[49m\u001b[43maxis\u001b[49m\u001b[43m,\u001b[49m\u001b[43m \u001b[49m\u001b[43mdtype\u001b[49m\u001b[43m,\u001b[49m\u001b[43m \u001b[49m\u001b[43mout\u001b[49m\u001b[43m,\u001b[49m\u001b[43m \u001b[49m\u001b[43mkeepdims\u001b[49m\u001b[43m=\u001b[49m\u001b[43mkeepdims\u001b[49m\u001b[43m,\u001b[49m\n\u001b[32m   2314\u001b[39m \u001b[43m                      \u001b[49m\u001b[43minitial\u001b[49m\u001b[43m=\u001b[49m\u001b[43minitial\u001b[49m\u001b[43m,\u001b[49m\u001b[43m \u001b[49m\u001b[43mwhere\u001b[49m\u001b[43m=\u001b[49m\u001b[43mwhere\u001b[49m\u001b[43m)\u001b[49m\n",
      "\u001b[36mFile \u001b[39m\u001b[32m~/miniconda3/lib/python3.12/site-packages/numpy/core/fromnumeric.py:88\u001b[39m, in \u001b[36m_wrapreduction\u001b[39m\u001b[34m(obj, ufunc, method, axis, dtype, out, **kwargs)\u001b[39m\n\u001b[32m     85\u001b[39m         \u001b[38;5;28;01melse\u001b[39;00m:\n\u001b[32m     86\u001b[39m             \u001b[38;5;28;01mreturn\u001b[39;00m reduction(axis=axis, out=out, **passkwargs)\n\u001b[32m---> \u001b[39m\u001b[32m88\u001b[39m \u001b[38;5;28;01mreturn\u001b[39;00m \u001b[43mufunc\u001b[49m\u001b[43m.\u001b[49m\u001b[43mreduce\u001b[49m\u001b[43m(\u001b[49m\u001b[43mobj\u001b[49m\u001b[43m,\u001b[49m\u001b[43m \u001b[49m\u001b[43maxis\u001b[49m\u001b[43m,\u001b[49m\u001b[43m \u001b[49m\u001b[43mdtype\u001b[49m\u001b[43m,\u001b[49m\u001b[43m \u001b[49m\u001b[43mout\u001b[49m\u001b[43m,\u001b[49m\u001b[43m \u001b[49m\u001b[43m*\u001b[49m\u001b[43m*\u001b[49m\u001b[43mpasskwargs\u001b[49m\u001b[43m)\u001b[49m\n",
      "\u001b[31mAxisError\u001b[39m: axis 1 is out of bounds for array of dimension 1"
     ]
    }
   ],
   "source": [
    "#col_sums = tr_counts.sum(axis=0, keepdims=True)\n",
    "col_sums = tr_counts.sum(axis=0)\n",
    "print('State proportions: \\n')\n",
    "\n",
    "tr_df = pd.DataFrame(col_sums/np.sum(col_sums,axis=1), index=states)\n",
    "print(tr_df)"
   ]
  },
  {
   "cell_type": "code",
   "execution_count": null,
   "id": "4e9dc492",
   "metadata": {},
   "outputs": [],
   "source": [
    "tr_pr = np.divide(tr_counts, col_sums, \n",
    "                             out=np.zeros_like(tr_counts), \n",
    "                             where=col_sums!=0)\n",
    "\n",
    "print('Transition Proportions:\\n')\n",
    "\n",
    "tr_df = pd.DataFrame(np.round(tr_pr,2), index=states, columns=states)\n",
    "print(tr_df)"
   ]
  },
  {
   "cell_type": "code",
   "execution_count": null,
   "id": "827cc276",
   "metadata": {},
   "outputs": [],
   "source": [
    "import seaborn as sns\n",
    "import matplotlib.pyplot as plt\n",
    "\n",
    "plt.figure(figsize=(12, 10))\n",
    "sns.heatmap(tr_pr, \n",
    "            cmap='Blues',       # Or 'Blues', 'plasma', whatever looks good\n",
    "            square=True,          # Keep cells square\n",
    "            xticklabels=states,\n",
    "            yticklabels=states,\n",
    "            cbar_kws={'label': 'Transition Probability'})\n",
    "\n",
    "plt.title('Transition Probabilities')\n",
    "plt.xlabel('...To State')\n",
    "plt.ylabel('From State...')\n",
    "plt.xticks(rotation=90)\n",
    "plt.yticks(rotation=0)\n",
    "plt.tight_layout()\n",
    "plt.show()"
   ]
  },
  {
   "cell_type": "markdown",
   "id": "8fec61a0",
   "metadata": {},
   "source": [
    "## Sparse versus Dense\n",
    "- If a transition matrix has a significant number of zeros, it eventually becomes easier to track the non-zero entries alone\n",
    "- If that's the case, we call the matrix **sparse**: There are special methods for storing and computing sparse matrices than as $N \\times N$ arrays\n",
    "- On a computer with a very large state space and high dependence (e.g. text analytics), transition matrices are inherently sparse -- you can imagine a lot of LLM techniques as being ways to track meaning (high order dependence) in sparse contexts across n-grams of tokens"
   ]
  },
  {
   "cell_type": "markdown",
   "id": "d23641de",
   "metadata": {},
   "source": [
    "## Connected Chain\n",
    "- A Markov chain is **connected** if for every pair of states $a$ and $b$, there is a sequence of transitions from $a$ to $b$ that has non-zero probability\n",
    "- Examples:\n",
    "    - Any \"short\" length of nucleotides will eventually appear in a genome\n",
    "    - Unless you're playing something avant garde, it is **not** the case that you will see \"every\" chord in a single piece (i.e. concept of a key signature)\n",
    "- Disconnected chains typically have two or more possible sets of states that eventually communicate within, but not across\n",
    "- We can use some code from the `networkx` package for analyzing graphs, and the transition proportion matrix to see if the chain is connected"
   ]
  },
  {
   "cell_type": "code",
   "execution_count": null,
   "id": "6471e648",
   "metadata": {},
   "outputs": [],
   "source": [
    "import networkx as nx\n",
    "import numpy as np\n",
    "\n",
    "G = nx.from_numpy_array(tr_pr, create_using=nx.DiGraph()) # Create directed graph in nx\n",
    "is_connected = nx.is_strongly_connected(G) # Test connectivity\n",
    "print(f\"Connected: {is_connected}\")\n",
    "\n",
    "# Get connected components if not connected\n",
    "if not is_connected:\n",
    "    strong_components = list(nx.strongly_connected_components(G))\n",
    "    print(f\"Number of strongly connected components: {len(strong_components)}\")"
   ]
  },
  {
   "cell_type": "markdown",
   "id": "1d30043a",
   "metadata": {},
   "source": [
    "## Exercise 3:\n",
    "- Explain why taxicabs are most likely order 1, and not 2 or more.\n",
    "- Are taxicab trajectories probably connected or not?"
   ]
  },
  {
   "cell_type": "markdown",
   "id": "ac63b1e2",
   "metadata": {},
   "source": [
    "## Example: Bach\n",
    "- This is where rules of harmony come from"
   ]
  },
  {
   "cell_type": "markdown",
   "id": "75ee0ae6",
   "metadata": {},
   "source": [
    "# 3. Forecasting and Simulation"
   ]
  },
  {
   "cell_type": "markdown",
   "id": "b591b889",
   "metadata": {},
   "source": [
    "## Simulation/Generation\n",
    "- Each row of our matrix gives the conditional empirical probability of the next state, conditional on the current state\n",
    "- If we pick the next state at random according to those probabilities, we get a new state; repeating this process is called **simulation**\n",
    "- The more recent term for this is **generative modeling**"
   ]
  },
  {
   "cell_type": "code",
   "execution_count": null,
   "id": "54d63807",
   "metadata": {},
   "outputs": [],
   "source": [
    "np.random.seed(100)\n",
    "\n",
    "initial_state = np.random.choice(states) # Choose an initial state at random\n",
    "state_index = states.index(initial_state) # Get the index of the initial state\n",
    "print(f'Initial state: {initial_state}') \n",
    "\n",
    "n_sim = 20\n",
    "\n",
    "simulation = [initial_state]\n",
    "for t in range(n_sim-1): \n",
    "    pr_t = tr_pr[:,state_index] # Transition probabilities at this state\n",
    "    state_index = np.random.choice(len(states), p=pr_t) # Choose new state index\n",
    "    simulation.append(states[state_index]) # Append new state to simulation\n",
    "\n",
    "print(simulation)\n"
   ]
  },
  {
   "cell_type": "markdown",
   "id": "137adb00",
   "metadata": {},
   "source": [
    "## Forecasting\n",
    "- If we don't pick a new state but instead multiply a vector with a one at the current state and zeroes elsewhere, we get a guess of the distribution of the next state; repeating this process is called **forecasting**\n",
    "- What happens over time to the specificity of the forecast?"
   ]
  },
  {
   "cell_type": "code",
   "execution_count": null,
   "id": "165fc5a1",
   "metadata": {},
   "outputs": [],
   "source": [
    "np.random.seed(100)\n",
    "\n",
    "initial_state = np.random.choice(states) # Choose an initial state at random\n",
    "state_index = states.index(initial_state) # Get the index of the initial state\n",
    "\n",
    "##Initial density:\n",
    "density = np.zeros(len(states))\n",
    "density[state_index] = 1\n",
    "\n",
    "sns.barplot(x=states,y=density).set(title=f'Forecast: 0')\n",
    "plt.xticks(rotation=90)\n",
    "plt.show()\n",
    "\n",
    "n_sim = 5\n",
    "\n",
    "forecast = [initial_state]\n",
    "for t in range(n_sim): \n",
    "    density = tr_pr @ density\n",
    "    forecast.append(density) # Append new forecast\n",
    "    sns.barplot(x=states,y=density).set(title=f'Forecast, period: {str(t+1)}')\n",
    "    plt.xticks(rotation=90)\n",
    "    plt.show()\n"
   ]
  },
  {
   "cell_type": "markdown",
   "id": "dd815f91",
   "metadata": {},
   "source": [
    "- For awhile, knowing the initial state (aga) is helpful for forecasting the likelihood of the next state\n",
    "- By period 5, though, things are relatively noisy, and the process could be anywhere"
   ]
  },
  {
   "cell_type": "markdown",
   "id": "a5babe2e",
   "metadata": {},
   "source": [
    "## Forecasting\n",
    "- How does this calculation work?\n",
    "- If the transition matrix is $T$, we can model the initial density over states as a vector $\\pi_0$ with zeros everywhere except the index $k$ for the current state (the vector is 0 except for the index that corresponds to 'aga')\n",
    "- Then we multiply \n",
    "$$\n",
    "T \\pi_0 = \\left[ \\begin{array} {cccc} p_{00} & p_{01} & \\dots & p_{0S} \\\\\n",
    "p_{11} & p_{12} & \\dots & p_{1S} \\\\\n",
    "p_{21} & p_{22} & \\dots & p_{2S} \\\\\n",
    "\\vdots & \\vdots & \\ddots & \\vdots \\\\\n",
    "p_{S1} & p_{S2} & \\dots & p_{SS} \\\\\n",
    "\\end{array}\\right] \\left( \\begin{array} {c} 0 \\\\ \\vdots \\\\ 1 \\\\ \\vdots \\\\ 0 \\end{array}\\right) = \\left( \\begin{array} {c} p_{k1} \\\\ \\vdots \\\\ p_{ks} \\\\ \\vdots \\\\ p_{kS} \\end{array}\\right)= \\pi_1\n",
    "$$\n",
    "- This is just the conditional proportions for $k$ transitioning to each of the states; that's the first figure above with four values\n",
    "- When we multiply a second time, we get $T^2 \\pi_0 = T \\pi_1 = \\pi_2$, and we see how that density transitions to the second picture with 16 values. The values of $\\pi_2$ all look like $\\sum_{s=1}^S p_{ss'} p_{ks}$: The sum of all the conditional proportions of paths from $k$ to $s'$\n",
    "- We can use matrix multiplication to iterate this process, generating predictions of where the chain will be as time ticks forward\n",
    "- Eventually, however, our predictions will typically become uninformative: As time goes by, the chain wanders, and it visits many states, and probabilities across future paths become relatively stable and uninformative"
   ]
  },
  {
   "cell_type": "markdown",
   "id": "2a841f89",
   "metadata": {},
   "source": [
    "## Exercise 4:\n",
    "- Simulate taxicab trajectories in Manhattan, starting from an arbitrary initial condition\n",
    "- For each neighborhood, create a sequence of forecasts of where the cab is likely to be in 2, 3, 5, and 10 trips."
   ]
  },
  {
   "cell_type": "markdown",
   "id": "ca6b28b4",
   "metadata": {},
   "source": [
    "## Conclusion\n",
    "- Markov chains are our workhorse tool for modeling dynamic phenomena: They're flexible, easy to compute, and provide insights into how current states predict future ones\n",
    "- They are the foundation of text analytics"
   ]
  },
  {
   "cell_type": "markdown",
   "id": "92fc85bb",
   "metadata": {},
   "source": [
    "## Exercise 5:\n",
    "- Create a Markov Chain class that takes a list of sequences, determines the state space, computes the transition proportions, and can simulate new observations"
   ]
  }
 ],
 "metadata": {
  "kernelspec": {
   "display_name": "base",
   "language": "python",
   "name": "python3"
  },
  "language_info": {
   "codemirror_mode": {
    "name": "ipython",
    "version": 3
   },
   "file_extension": ".py",
   "mimetype": "text/x-python",
   "name": "python",
   "nbconvert_exporter": "python",
   "pygments_lexer": "ipython3",
   "version": "3.12.9"
  }
 },
 "nbformat": 4,
 "nbformat_minor": 5
}
